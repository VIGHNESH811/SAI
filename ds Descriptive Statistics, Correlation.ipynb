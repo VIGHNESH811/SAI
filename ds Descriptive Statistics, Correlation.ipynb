{
  "nbformat": 4,
  "nbformat_minor": 0,
  "metadata": {
    "colab": {
      "provenance": [],
      "authorship_tag": "ABX9TyP88FRZO9N9O0pnuh3SzI8D",
      "include_colab_link": true
    },
    "kernelspec": {
      "name": "python3",
      "display_name": "Python 3"
    },
    "language_info": {
      "name": "python"
    }
  },
  "cells": [
    {
      "cell_type": "markdown",
      "metadata": {
        "id": "view-in-github",
        "colab_type": "text"
      },
      "source": [
        "<a href=\"https://colab.research.google.com/github/VIGHNESH811/SAI/blob/main/ds%20Descriptive%20Statistics%2C%20Correlation.ipynb\" target=\"_parent\"><img src=\"https://colab.research.google.com/assets/colab-badge.svg\" alt=\"Open In Colab\"/></a>"
      ]
    },
    {
      "cell_type": "code",
      "execution_count": 4,
      "metadata": {
        "colab": {
          "base_uri": "https://localhost:8080/"
        },
        "id": "I-9J-e-KoAUO",
        "outputId": "1cc151e6-9228-4e64-a786-c835b3d692ec"
      },
      "outputs": [
        {
          "output_type": "stream",
          "name": "stdout",
          "text": [
            "Mean =  7.333333333333333\n"
          ]
        }
      ],
      "source": [
        "import numpy as np\n",
        "arr = [5, 6, 11]\n",
        "# Mean\n",
        "mean = np.mean (arr)\n",
        "print(\"Mean = \", mean)\n",
        "\n"
      ]
    },
    {
      "cell_type": "code",
      "source": [
        "from scipy import stats\n",
        "arr = [1, 2, 2, 3]\n",
        "# Mode\n",
        "mode = stats.mode(arr)\n",
        "print (\"Mode = \", mode)\n"
      ],
      "metadata": {
        "colab": {
          "base_uri": "https://localhost:8080/"
        },
        "id": "xg0T09Uxoa7n",
        "outputId": "c33d3534-8a93-4faf-8d53-cdbd529ed7d8"
      },
      "execution_count": 5,
      "outputs": [
        {
          "output_type": "stream",
          "name": "stdout",
          "text": [
            "Mode =  ModeResult(mode=np.int64(2), count=np.int64(2))\n"
          ]
        }
      ]
    },
    {
      "cell_type": "code",
      "source": [
        "import numpy as np\n",
        "arr=[1, 2, 3, 4]\n",
        "# Median\n",
        "median = np.median(arr)\n",
        "print(\"Median = \", median)\n"
      ],
      "metadata": {
        "colab": {
          "base_uri": "https://localhost:8080/"
        },
        "id": "XQ_B_eKtohwL",
        "outputId": "cae5b842-e6bf-4094-961a-42fb5b288c83"
      },
      "execution_count": 6,
      "outputs": [
        {
          "output_type": "stream",
          "name": "stdout",
          "text": [
            "Median =  2.5\n"
          ]
        }
      ]
    },
    {
      "cell_type": "code",
      "source": [
        "import numpy as np\n",
        "arr = [1, 2, 3, 4, 5]\n",
        "Maximum = max(arr)\n",
        "Minimum = min(arr)\n",
        "Range = Maximum-Minimum\n",
        "\n",
        "print(\"Maximum = {}, Minimum = {} and Range = {}\".format( Maximum, Minimum, Range))\n"
      ],
      "metadata": {
        "colab": {
          "base_uri": "https://localhost:8080/"
        },
        "id": "rTQDVRGoolyL",
        "outputId": "cbe52c4c-19f0-4fdd-daf2-7f0a822a8c1e"
      },
      "execution_count": 7,
      "outputs": [
        {
          "output_type": "stream",
          "name": "stdout",
          "text": [
            "Maximum = 5, Minimum = 1 and Range = 4\n"
          ]
        }
      ]
    },
    {
      "cell_type": "code",
      "source": [
        "import statistics\n",
        "arr = [1, 2, 3, 4, 5]\n",
        "print(\"Var = \", (statistics.variance(arr)))\n"
      ],
      "metadata": {
        "colab": {
          "base_uri": "https://localhost:8080/"
        },
        "id": "kM98g01IopVk",
        "outputId": "adfec38e-6e19-4562-8f99-746b9ae909ab"
      },
      "execution_count": 9,
      "outputs": [
        {
          "output_type": "stream",
          "name": "stdout",
          "text": [
            "Var =  2.5\n"
          ]
        }
      ]
    },
    {
      "cell_type": "code",
      "source": [
        "import statistics\n",
        "arr = [1, 2, 3, 4, 5]\n",
        "# Standard Deviation\n",
        "print(\"Std = \", (statistics.stdev(arr)))\n"
      ],
      "metadata": {
        "colab": {
          "base_uri": "https://localhost:8080/"
        },
        "id": "mRrDvqZPoue8",
        "outputId": "42d528d6-e0d8-489a-de01-d01e1b9254f8"
      },
      "execution_count": 12,
      "outputs": [
        {
          "output_type": "stream",
          "name": "stdout",
          "text": [
            "Std =  1.5811388300841898\n"
          ]
        }
      ]
    }
  ]
}